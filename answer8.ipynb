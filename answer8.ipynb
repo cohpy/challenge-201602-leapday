{
 "cells": [
  {
   "cell_type": "code",
   "execution_count": 1,
   "metadata": {
    "collapsed": true
   },
   "outputs": [],
   "source": [
    "from __future__ import print_function"
   ]
  },
  {
   "cell_type": "code",
   "execution_count": 2,
   "metadata": {
    "collapsed": false
   },
   "outputs": [
    {
     "name": "stdout",
     "output_type": "stream",
     "text": [
      "2044-02-29\r\n"
     ]
    }
   ],
   "source": [
    "# one line ugly shell to compare Python code with\n",
    "!year=2017; while true; do if cal 2 \"$year\" | grep -q '^.. 29'; then echo $year-02-29; break; fi;year=`expr \"$year\" + 1`; done"
   ]
  },
  {
   "cell_type": "code",
   "execution_count": 3,
   "metadata": {
    "collapsed": true
   },
   "outputs": [],
   "source": [
    "from itertools import count\n",
    "import datetime\n",
    "import calendar"
   ]
  },
  {
   "cell_type": "code",
   "execution_count": 4,
   "metadata": {
    "collapsed": true
   },
   "outputs": [],
   "source": [
    "def next_leap_day_on_day_of_week(start_year, day_of_week):\n",
    "    for year in count(start_year + 1):\n",
    "        if (\n",
    "                calendar.isleap(year) and \n",
    "                datetime.date(year, 2, 29).weekday() == day_of_week):\n",
    "            return datetime.date(year, 2, 29)"
   ]
  },
  {
   "cell_type": "code",
   "execution_count": 5,
   "metadata": {
    "collapsed": false
   },
   "outputs": [
    {
     "name": "stdout",
     "output_type": "stream",
     "text": [
      "The next CohPy meeting on a leap day is 2044-02-29.\n"
     ]
    }
   ],
   "source": [
    "print(\n",
    "    \"The next CohPy meeting on a leap day is %s.\" %\n",
    "    next_leap_day_on_day_of_week(datetime.datetime.now().year, 0))"
   ]
  }
 ],
 "metadata": {
  "kernelspec": {
   "display_name": "Python 2",
   "language": "python",
   "name": "python2"
  },
  "language_info": {
   "codemirror_mode": {
    "name": "ipython",
    "version": 2
   },
   "file_extension": ".py",
   "mimetype": "text/x-python",
   "name": "python",
   "nbconvert_exporter": "python",
   "pygments_lexer": "ipython2",
   "version": "2.7.6"
  }
 },
 "nbformat": 4,
 "nbformat_minor": 0
}
